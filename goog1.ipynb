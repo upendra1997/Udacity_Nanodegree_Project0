{
 "cells": [
  {
   "cell_type": "code",
   "execution_count": 1,
   "metadata": {
    "colab": {
     "base_uri": "https://localhost:8080/",
     "height": 51
    },
    "colab_type": "code",
    "id": "JRX3MdSelM9E",
    "outputId": "f24d26c5-81de-4a78-e965-62d8ad4cdaef"
   },
   "outputs": [
    {
     "name": "stdout",
     "output_type": "stream",
     "text": [
      "Wed Jan  9 19:30:31 2019       \n",
      "+-----------------------------------------------------------------------------+\n",
      "| NVIDIA-SMI 396.44                 Driver Version: 396.44                    |\n",
      "|-------------------------------+----------------------+----------------------+\n",
      "| GPU  Name        Persistence-M| Bus-Id        Disp.A | Volatile Uncorr. ECC |\n",
      "| Fan  Temp  Perf  Pwr:Usage/Cap|         Memory-Usage | GPU-Util  Compute M. |\n",
      "|===============================+======================+======================|\n",
      "|   0  Tesla K80           On   | 00003C97:00:00.0 Off |                    0 |\n",
      "| N/A   43C    P0    55W / 149W |      0MiB / 11441MiB |      1%      Default |\n",
      "+-------------------------------+----------------------+----------------------+\n",
      "                                                                               \n",
      "+-----------------------------------------------------------------------------+\n",
      "| Processes:                                                       GPU Memory |\n",
      "|  GPU       PID   Type   Process name                             Usage      |\n",
      "|=============================================================================|\n",
      "|  No running processes found                                                 |\n",
      "+-----------------------------------------------------------------------------+\n"
     ]
    }
   ],
   "source": [
    "# try:\n",
    "#     import os\n",
    "#     from google.colab.drive import mount\n",
    "#     mount('./drive')\n",
    "#     %cd 'drive/My Drive/Colab Notebooks/Final Project'\n",
    "#     if not os.path.exists('flower_data.zip'):\n",
    "# #     !wget https://s3.amazonaws.com/content.udacity-data.com/courses/nd188/flower_data.zip\n",
    "#         !wget https://s3.amazonaws.com/content.udacity-data.com/nd089/flower_data.tar.gz\n",
    "#     if not os.path.exists('flower_data'):\n",
    "# #     !unzip flower_data.zip\n",
    "#         !mkdir flower_data\n",
    "#         !tar -C ./flower_data -xvzf flower_data.tar.gz\n",
    "# except ImportError:\n",
    "#     pass\n",
    "!nvidia-smi"
   ]
  },
  {
   "cell_type": "code",
   "execution_count": 2,
   "metadata": {
    "colab": {
     "base_uri": "https://localhost:8080/",
     "height": 258
    },
    "colab_type": "code",
    "id": "SodzctH8lVB0",
    "outputId": "c0d38575-5fb2-4af4-efe9-459362caf249"
   },
   "outputs": [
    {
     "name": "stdout",
     "output_type": "stream",
     "text": [
      "5.3.0\n"
     ]
    }
   ],
   "source": [
    "# !pip3 uninstall -y Pillow\n",
    "# !pip3 install Pillow==5.3.0\n",
    "# !pip3 install http://download.pytorch.org/whl/cu80/torch-0.4.1-cp36-cp36m-linux_x86_64.whl\n",
    "# # !pip3 install https://download.pytorch.org/whl/cu80/torch-0.4.0-cp36-cp36m-linux_x86_64.whl\n",
    "# !pip3 install torchvision\n",
    "import PIL\n",
    "print(PIL.PILLOW_VERSION)"
   ]
  },
  {
   "cell_type": "code",
   "execution_count": 3,
   "metadata": {
    "colab": {},
    "colab_type": "code",
    "id": "0RtZDlyZpXrC"
   },
   "outputs": [],
   "source": [
    "# Imports here\n",
    "import numpy as np\n",
    "import matplotlib.pyplot as plt\n",
    "import torch\n",
    "import torchvision\n",
    "from torchvision import transforms\n",
    "from torch.utils.data import DataLoader, random_split\n",
    "from torchvision.datasets import ImageFolder\n",
    "from torch import optim, nn\n",
    "from torch.optim import lr_scheduler\n",
    "import time\n",
    "import os\n",
    "import copy\n",
    "import json\n",
    "import time"
   ]
  },
  {
   "cell_type": "code",
   "execution_count": 4,
   "metadata": {
    "colab": {},
    "colab_type": "code",
    "id": "qoTGvmQN1OB4"
   },
   "outputs": [],
   "source": [
    "# !pip install gdown==3.6.0\n",
    "# # https://drive.google.com/open?id=1W26FgrVjl-HHG77XL--v4s1mgE0a0ju1\n",
    "# my_file_id = '1W26FgrVjl-HHG77XL--v4s1mgE0a0ju1'\n",
    "# !gdown https://drive.google.com/uc?id={my_file_id}\n",
    "# !ls\n",
    "# !unzip big_data.zip\n",
    "from IPython.display import Audio, display\n",
    "\n",
    "def allDone():\n",
    "    display(Audio(url='https://sound.peal.io/ps/audios/000/000/537/original/woo_vu_luvub_dub_dub.wav', autoplay=True))"
   ]
  },
  {
   "cell_type": "code",
   "execution_count": 5,
   "metadata": {
    "colab": {},
    "colab_type": "code",
    "id": "B3Zly2Oppayl"
   },
   "outputs": [],
   "source": [
    "data_dir = 'big_data'\n",
    "train_dir = data_dir + '/train'\n",
    "valid_dir = data_dir + '/valid'\n",
    "test_dir = data_dir + '/test'\n",
    "device = torch.device(\"cuda:0\" if torch.cuda.is_available() else \"cpu\")"
   ]
  },
  {
   "cell_type": "code",
   "execution_count": 6,
   "metadata": {
    "colab": {},
    "colab_type": "code",
    "id": "gh8OvbJppd2t"
   },
   "outputs": [],
   "source": [
    "# TODO: Define your transforms for the training and validation sets\n",
    "mean = [0.485, 0.456, 0.406]\n",
    "std = [0.229, 0.224, 0.225]\n",
    "batch_size = 32\n",
    "data_transforms = {\n",
    "    \"train\": transforms.Compose([\n",
    "        transforms.RandomAffine(45, translate=(0.1,0.1), scale=(0.8,1.2), shear=10),\n",
    "        transforms.RandomHorizontalFlip(), transforms.RandomVerticalFlip(),\n",
    "        transforms.RandomResizedCrop(224),\n",
    "        transforms.ToTensor(),\n",
    "        transforms.Normalize(mean, std)\n",
    "    ]),\n",
    "    \"valid\": transforms.Compose([\n",
    "        transforms.Resize((224,224)),\n",
    "        transforms.ToTensor(),\n",
    "        transforms.Normalize(mean, std)\n",
    "    ]),\n",
    "    \"test\": transforms.Compose([\n",
    "        transforms.Resize((224,224)),\n",
    "        transforms.ToTensor(),\n",
    "        transforms.Normalize(mean, std)\n",
    "    ])\n",
    "}\n",
    "\n",
    "# TODO: Load the datasets with ImageFolder\n",
    "image_datasets = {\n",
    "    \"train\": ImageFolder(train_dir, transform=data_transforms[\"train\"]),\n",
    "    \"valid\": ImageFolder(valid_dir, transform=data_transforms[\"valid\"]),\n",
    "    \"test\": ImageFolder(valid_dir, transform=data_transforms[\"test\"])\n",
    "}\n",
    "\n",
    "# ratio = 0.25\n",
    "# num = int(ratio*len(image_datasets[\"train\"]))\n",
    "# scale_down,_ = random_split(image_datasets[\"train\"], [num, len(image_datasets[\"train\"])-num])\n",
    "# TODO: Using the image datasets and the trainforms, define the dataloaders\n",
    "\n",
    "dataloaders = {\n",
    "    \"train\": DataLoader(image_datasets[\"train\"], batch_size=batch_size, shuffle=True),\n",
    "    \"valid\": DataLoader(image_datasets[\"valid\"], batch_size=batch_size, shuffle=True),\n",
    "    \"test\": DataLoader(image_datasets[\"test\"], batch_size=batch_size, shuffle=True),\n",
    "}\n",
    "\n",
    "# dataloaders = {\n",
    "#     \"train\": DataLoader(scale_down, batch_size=batch_size, shuffle=True),\n",
    "#     \"valid\": DataLoader(image_datasets[\"valid\"], batch_size=batch_size, shuffle=True),\n",
    "#     \"test\": DataLoader(image_datasets[\"test\"], batch_size=batch_size, shuffle=True),\n",
    "# }"
   ]
  },
  {
   "cell_type": "code",
   "execution_count": 7,
   "metadata": {
    "colab": {
     "base_uri": "https://localhost:8080/",
     "height": 1751
    },
    "colab_type": "code",
    "id": "ag9V2pN8pkeS",
    "outputId": "f63fa62c-0962-4844-bba5-ace5db0bacf1"
   },
   "outputs": [],
   "source": [
    "# with open('cat_to_name.json', 'r') as f:\n",
    "#     cat_to_name = json.load(f)\n",
    "# sorted(cat_to_name)\n",
    "cat_to_name = [0]*102"
   ]
  },
  {
   "cell_type": "code",
   "execution_count": 8,
   "metadata": {
    "colab": {},
    "colab_type": "code",
    "id": "T8PtI7P-pngY"
   },
   "outputs": [],
   "source": [
    "def plt_stats(stats_error, stats_accuracy):\n",
    "    plt.figure(figsize=(15,5))\n",
    "    plt.title('stats')\n",
    "    plt.subplot(121)\n",
    "    plt.plot(stats_error['train'],label=\"train\")\n",
    "    plt.plot(stats_error['valid'], label=\"validation\")\n",
    "    plt.xlabel('epoch')\n",
    "    plt.ylabel('loss')\n",
    "    plt.legend()\n",
    "    plt.title(\"LOSS\")\n",
    "    plt.subplot(122)\n",
    "    plt.plot(stats_accuracy['train'], label=\"train\")\n",
    "    plt.plot(stats_accuracy['valid'], label=\"validation\")\n",
    "    plt.xlabel('epoch')\n",
    "    plt.ylabel('accuracy')\n",
    "    plt.legend()\n",
    "    plt.title(\"ACCURACY\")\n",
    "    plt.savefig(str(time.time())+'.jpg')"
   ]
  },
  {
   "cell_type": "code",
   "execution_count": 9,
   "metadata": {
    "colab": {},
    "colab_type": "code",
    "id": "3lRISpTypq_f"
   },
   "outputs": [],
   "source": [
    "def train(epochs, model, optimizer, scheduler, dataloaders, criterion, model_name=\"my_model.pt\", save=True, best_acc=0.0, stats_error = {'train':[], 'valid': []}, stats_accuracy = {'train':[], 'valid': []}):\n",
    "    since = time.time()\n",
    "    best_model_wts = copy.deepcopy(model.state_dict())\n",
    "    for epoch in range(epochs):\n",
    "        print('Epoch {}/{}'.format(epoch+1, epochs))\n",
    "        print('-' * 10)\n",
    "\n",
    "        # Each epoch has a training and validation phase\n",
    "        for phase in ['train', 'valid']:\n",
    "            print(phase, end='')\n",
    "            if phase == 'train':\n",
    "                if str(type(scheduler)) != \"<class 'torch.optim.lr_scheduler.ReduceLROnPlateau'>\":\n",
    "                    scheduler.step()\n",
    "                model.train()  # Set model to training mode\n",
    "            else:\n",
    "                model.eval()   # Set model to evaluate mode\n",
    "\n",
    "            running_loss = 0.0\n",
    "            running_corrects = 0.0\n",
    "\n",
    "            # Iterate over data.\n",
    "            for inputs, labels in dataloaders[phase]:\n",
    "                print('.', end='')\n",
    "                inputs = inputs.to(device)\n",
    "                labels = labels.to(device)\n",
    "\n",
    "                # zero the parameter gradients\n",
    "                optimizer.zero_grad()\n",
    "\n",
    "                # forward\n",
    "                # track history if only in train\n",
    "                with torch.set_grad_enabled(phase == 'train'):\n",
    "                    outputs = model(inputs)\n",
    "                    _, preds = torch.max(outputs, 1)\n",
    "                    loss = criterion(outputs, labels)\n",
    "\n",
    "                    # backward + optimize only if in training phase\n",
    "                    if phase == 'train':\n",
    "                        loss.backward()\n",
    "                        optimizer.step()\n",
    "\n",
    "                # statistics\n",
    "                running_loss += loss.item() * inputs.size(0)\n",
    "                running_corrects += torch.sum(preds == labels.data).item()\n",
    "            print()\n",
    "            \n",
    "            \n",
    "            epoch_loss = running_loss / len(dataloaders[phase].dataset)\n",
    "            epoch_acc = running_corrects / len(dataloaders[phase].dataset)\n",
    "            stats_error[phase].append(epoch_loss)\n",
    "            stats_accuracy[phase].append(epoch_acc)\n",
    "            \n",
    "            if phase==\"valid\" and str(type(scheduler)) == \"<class 'torch.optim.lr_scheduler.ReduceLROnPlateau'>\":\n",
    "                scheduler.step(metrics = epoch_loss)\n",
    "            \n",
    "            \n",
    "            print('{} Loss: {:.4f} Acc: {:.4f}'.format(\n",
    "                phase, epoch_loss, epoch_acc))\n",
    "\n",
    "        # deep copy the model\n",
    "            if phase == 'valid' and epoch_acc >= best_acc:\n",
    "                print(\"accuracy increased from {:.4f} to {:.4f}, saving model....\".format(best_acc, epoch_acc))\n",
    "                best_acc = epoch_acc\n",
    "                best_model_wts = copy.deepcopy(model.state_dict())\n",
    "                if save:\n",
    "                    torch.save(model.state_dict(), model_name)\n",
    "        print()\n",
    "    \n",
    "    json.dump({\"stats_error\":stats_error, \"stats_accuracy\": stats_accuracy}, open('stats-'+str(time.time())+'.json', 'w'))\n",
    "    plt_stats(stats_error, stats_accuracy)\n",
    "    model.load_state_dict(best_model_wts)\n",
    "    \n",
    "    time_elapsed = time.time() - since\n",
    "    print('Training complete in {:.0f}m {:.0f}s'.format(time_elapsed // 60, time_elapsed % 60))\n",
    "    \n",
    "    allDone()\n",
    "    \n",
    "    return best_acc, model\n"
   ]
  },
  {
   "cell_type": "code",
   "execution_count": 10,
   "metadata": {
    "colab": {},
    "colab_type": "code",
    "id": "IFHo7Yr4qqR_"
   },
   "outputs": [],
   "source": [
    "def test(model, dataloaders):\n",
    "    model.eval()\n",
    "    running_corrects = 0.0\n",
    "    for batch, (inputs, labels) in enumerate(dataloaders['test']):\n",
    "        inputs = inputs.to(device)\n",
    "        labels = labels.to(device)\n",
    "        with torch.set_grad_enabled(False):\n",
    "            outputs = model(inputs)\n",
    "            _, preds = torch.max(outputs, 1)\n",
    "        # statistics\n",
    "        accu =  torch.sum(preds == labels.data)\n",
    "        running_corrects += accu.data.item()\n",
    "        print(\"batch:\", batch+1, \"Accuracy:\", accu.data.item()/len(inputs))\n",
    "    print(\"overall accuracy:\", running_corrects/len(dataloaders['test'].dataset))"
   ]
  },
  {
   "cell_type": "code",
   "execution_count": 11,
   "metadata": {
    "colab": {},
    "colab_type": "code",
    "id": "NmscJ7PZr4Sc"
   },
   "outputs": [],
   "source": [
    "def google_test(model):\n",
    "    !git clone https://github.com/GabrielePicco/deep-learning-flower-identifier\n",
    "    !pip install airtable\n",
    "    import sys\n",
    "    sys.path.insert(0, 'deep-learning-flower-identifier')\n",
    "    \n",
    "    import PIL\n",
    "    print(PIL.PILLOW_VERSION)\n",
    "\n",
    "    # model = model.to(device)\n",
    "    model.eval()\n",
    "    from test_model_pytorch_facebook_challenge import calc_accuracy\n",
    "    calc_accuracy(model, input_image_size=224, use_google_testset=True, batch_size=batch_size, norm_mean = mean, norm_std=std)"
   ]
  },
  {
   "cell_type": "code",
   "execution_count": 12,
   "metadata": {
    "colab": {
     "base_uri": "https://localhost:8080/",
     "height": 51
    },
    "colab_type": "code",
    "id": "TcRpc52TsY2p",
    "outputId": "4da32e84-c78d-4cda-df15-fc962a9bc4f5"
   },
   "outputs": [],
   "source": [
    "# TODO: Build and train your network\n",
    "model = torchvision.models.resnet152(pretrained=True)\n",
    "\n",
    "length = len(list(model.parameters()))\n",
    "\n",
    "for idx,param in enumerate(model.parameters()):\n",
    "    if idx < length-10:\n",
    "        param.requires_grad = False\n",
    "\n",
    "in_features = model.fc.in_features\n",
    "# in_features = model.classifier[0].in_features\n",
    "out_features = len(cat_to_name)\n",
    "\n",
    "fc = nn.Sequential(\n",
    "    nn.Linear(in_features, 512),\n",
    "    nn.Dropout(0.2),\n",
    "    nn.ReLU(),\n",
    "    nn.Linear(512, out_features)\n",
    ")\n",
    "\n",
    "\n",
    "model.fc = fc\n",
    "\n",
    "model = model.to(device)"
   ]
  },
  {
   "cell_type": "code",
   "execution_count": 15,
   "metadata": {
    "colab": {},
    "colab_type": "code",
    "id": "wvHb9_h5xNSJ",
    "slideshow": {
     "slide_type": "-"
    }
   },
   "outputs": [],
   "source": [
    "epochs = 20\n",
    "lr = 1e-1\n",
    "gamma = 0.1\n",
    "step_size = 5\n",
    "momentum = 0.8\n",
    "cooldown = 1\n",
    "best_acc = 0.5876\n",
    "model.load_state_dict(torch.load('goog_prev1.pt'))\n",
    "optimizer = optim.SGD(model.parameters(), lr=lr, momentum = momentum)\n",
    "criterion = nn.CrossEntropyLoss()\n",
    "scheduler = lr_scheduler.ReduceLROnPlateau(optimizer, patience=step_size, cooldown=cooldown,verbose=True)"
   ]
  },
  {
   "cell_type": "code",
   "execution_count": 17,
   "metadata": {
    "colab": {
     "base_uri": "https://localhost:8080/",
     "height": 505
    },
    "colab_type": "code",
    "id": "KlcHtQUAy8DR",
    "outputId": "f1ab45fb-3743-4bbc-ee4b-96debf3e53b1"
   },
   "outputs": [
    {
     "name": "stdout",
     "output_type": "stream",
     "text": [
      "Epoch 1/20\n",
      "----------\n",
      "train............................................................................................................................................................................................................................................................................................\n",
      "train Loss: 2.0688 Acc: 0.4725\n",
      "valid.......................................................\n",
      "valid Loss: 1.3147 Acc: 0.6443\n",
      "accuracy increased from 0.5876 to 0.6443, saving model....\n",
      "\n",
      "Epoch 2/20\n",
      "----------\n",
      "train............................................................................................................................................................................................................................................................................................\n",
      "train Loss: 1.7997 Acc: 0.5353\n",
      "valid.......................................................\n",
      "valid Loss: 0.9395 Acc: 0.7426\n",
      "accuracy increased from 0.6443 to 0.7426, saving model....\n",
      "\n",
      "Epoch 3/20\n",
      "----------\n",
      "train............................................................................................................................................................................................................................................................................................\n",
      "train Loss: 1.6311 Acc: 0.5729\n",
      "valid.......................................................\n",
      "valid Loss: 0.8586 Acc: 0.7444\n",
      "accuracy increased from 0.7426 to 0.7444, saving model....\n",
      "\n",
      "Epoch 4/20\n",
      "----------\n",
      "train............................................................................................................................................................................................................................................................................................\n",
      "train Loss: 1.4065 Acc: 0.6277\n",
      "valid.......................................................\n",
      "valid Loss: 0.6017 Acc: 0.8230\n",
      "accuracy increased from 0.7444 to 0.8230, saving model....\n",
      "\n",
      "Epoch 5/20\n",
      "----------\n",
      "train............................................................................................................................................................................................................................................................................................\n",
      "train Loss: 1.2307 Acc: 0.6695\n",
      "valid.......................................................\n",
      "valid Loss: 0.4415 Acc: 0.8762\n",
      "accuracy increased from 0.8230 to 0.8762, saving model....\n",
      "\n",
      "Epoch 6/20\n",
      "----------\n",
      "train............................................................................................................................................................................................................................................................................................\n",
      "train Loss: 1.1843 Acc: 0.6880\n",
      "valid.......................................................\n",
      "valid Loss: 0.4192 Acc: 0.8814\n",
      "accuracy increased from 0.8762 to 0.8814, saving model....\n",
      "\n",
      "Epoch 7/20\n",
      "----------\n",
      "train............................................................................................................................................................................................................................................................................................\n",
      "train Loss: 1.0878 Acc: 0.7137\n",
      "valid.......................................................\n",
      "valid Loss: 0.3854 Acc: 0.8843\n",
      "accuracy increased from 0.8814 to 0.8843, saving model....\n",
      "\n",
      "Epoch 8/20\n",
      "----------\n",
      "train............................................................................................................................................................................................................................................................................................\n",
      "train Loss: 0.9808 Acc: 0.7380\n",
      "valid.......................................................\n",
      "valid Loss: 0.2791 Acc: 0.9173\n",
      "accuracy increased from 0.8843 to 0.9173, saving model....\n",
      "\n",
      "Epoch 9/20\n",
      "----------\n",
      "train............................................................................................................................................................................................................................................................................................\n",
      "train Loss: 0.9190 Acc: 0.7558\n",
      "valid.......................................................\n",
      "valid Loss: 0.2823 Acc: 0.9138\n",
      "\n",
      "Epoch 10/20\n",
      "----------\n",
      "train............................................................................................................................................................................................................................................................................................\n",
      "train Loss: 0.8902 Acc: 0.7635\n",
      "valid.......................................................\n",
      "valid Loss: 0.2712 Acc: 0.9190\n",
      "accuracy increased from 0.9173 to 0.9190, saving model....\n",
      "\n",
      "Epoch 11/20\n",
      "----------\n",
      "train............................................................................................................................................................................................................................................................................................\n",
      "train Loss: 0.7951 Acc: 0.7853\n",
      "valid.......................................................\n",
      "valid Loss: 0.2163 Acc: 0.9364\n",
      "accuracy increased from 0.9190 to 0.9364, saving model....\n",
      "\n",
      "Epoch 12/20\n",
      "----------\n",
      "train............................................................................................................................................................................................................................................................................................\n",
      "train Loss: 0.7349 Acc: 0.8031\n",
      "valid.......................................................\n",
      "valid Loss: 0.2271 Acc: 0.9375\n",
      "accuracy increased from 0.9364 to 0.9375, saving model....\n",
      "\n",
      "Epoch 13/20\n",
      "----------\n",
      "train............................................................................................................................................................................................................................................................................................\n",
      "train Loss: 0.7137 Acc: 0.8052\n",
      "valid.......................................................\n",
      "valid Loss: 0.1841 Acc: 0.9491\n",
      "accuracy increased from 0.9375 to 0.9491, saving model....\n",
      "\n",
      "Epoch 14/20\n",
      "----------\n",
      "train............................................................................................................................................................................................................................................................................................\n",
      "train Loss: 0.6983 Acc: 0.8124\n",
      "valid.......................................................\n",
      "valid Loss: 0.2027 Acc: 0.9393\n",
      "\n",
      "Epoch 15/20\n",
      "----------\n",
      "train............................................................................................................................................................................................................................................................................................\n",
      "train Loss: 0.6414 Acc: 0.8291\n",
      "valid.......................................................\n",
      "valid Loss: 0.1908 Acc: 0.9451\n",
      "\n",
      "Epoch 16/20\n",
      "----------\n",
      "train............................................................................................................................................................................................................................................................................................\n",
      "train Loss: 0.5872 Acc: 0.8383\n",
      "valid.......................................................\n",
      "valid Loss: 0.1677 Acc: 0.9520\n",
      "accuracy increased from 0.9491 to 0.9520, saving model....\n",
      "\n",
      "Epoch 17/20\n",
      "----------\n",
      "train............................................................................................................................................................................................................................................................................................\n",
      "train Loss: 0.5665 Acc: 0.8441\n",
      "valid.......................................................\n",
      "valid Loss: 0.1823 Acc: 0.9474\n",
      "\n",
      "Epoch 18/20\n",
      "----------\n",
      "train............................................................................................................................................................................................................................................................................................\n",
      "train Loss: 0.5830 Acc: 0.8452\n",
      "valid.......................................................\n",
      "valid Loss: 0.1464 Acc: 0.9589\n",
      "accuracy increased from 0.9520 to 0.9589, saving model....\n",
      "\n",
      "Epoch 19/20\n",
      "----------\n",
      "train............................................................................................................................................................................................................................................................................................\n",
      "train Loss: 0.5456 Acc: 0.8509\n",
      "valid.......................................................\n",
      "valid Loss: 0.1195 Acc: 0.9630\n",
      "accuracy increased from 0.9589 to 0.9630, saving model....\n",
      "\n",
      "Epoch 20/20\n",
      "----------\n",
      "train............................................................................................................................................................................................................................................................................................\n",
      "train Loss: 0.5366 Acc: 0.8528\n",
      "valid.......................................................\n",
      "valid Loss: 0.1330 Acc: 0.9607\n",
      "\n",
      "Training complete in 129m 39s\n"
     ]
    },
    {
     "data": {
      "text/html": [
       "\n",
       "                <audio controls=\"controls\" autoplay=\"autoplay\">\n",
       "                    <source src=\"https://sound.peal.io/ps/audios/000/000/537/original/woo_vu_luvub_dub_dub.wav\" type=\"audio/x-wav\" />\n",
       "                    Your browser does not support the audio element.\n",
       "                </audio>\n",
       "              "
      ],
      "text/plain": [
       "<IPython.lib.display.Audio object>"
      ]
     },
     "metadata": {},
     "output_type": "display_data"
    },
    {
     "data": {
      "image/png": "[encoded data removed]",
      "text/plain": [
       "<Figure size 1080x360 with 2 Axes>"
      ]
     },
     "metadata": {},
     "output_type": "display_data"
    }
   ],
   "source": [
    "best_acc, model = train(epochs, model, optimizer, scheduler, dataloaders, criterion, model_name=\"goog_prev1.pt\", best_acc = best_acc)"
   ]
  },
  {
   "cell_type": "code",
   "execution_count": 18,
   "metadata": {
    "colab": {
     "base_uri": "https://localhost:8080/",
     "height": 1081
    },
    "colab_type": "code",
    "id": "ogpQYJDuzKqg",
    "outputId": "192b0299-7f98-47b2-9413-719494c17690"
   },
   "outputs": [
    {
     "name": "stdout",
     "output_type": "stream",
     "text": [
      "batch: 1 Accuracy: 0.96875\n",
      "batch: 2 Accuracy: 0.9375\n",
      "batch: 3 Accuracy: 0.9375\n",
      "batch: 4 Accuracy: 0.96875\n",
      "batch: 5 Accuracy: 0.96875\n",
      "batch: 6 Accuracy: 0.9375\n",
      "batch: 7 Accuracy: 1.0\n",
      "batch: 8 Accuracy: 1.0\n",
      "batch: 9 Accuracy: 0.9375\n",
      "batch: 10 Accuracy: 1.0\n",
      "batch: 11 Accuracy: 0.9375\n",
      "batch: 12 Accuracy: 0.96875\n",
      "batch: 13 Accuracy: 0.96875\n",
      "batch: 14 Accuracy: 0.96875\n",
      "batch: 15 Accuracy: 0.96875\n",
      "batch: 16 Accuracy: 0.9375\n",
      "batch: 17 Accuracy: 0.90625\n",
      "batch: 18 Accuracy: 0.9375\n",
      "batch: 19 Accuracy: 0.9375\n",
      "batch: 20 Accuracy: 1.0\n",
      "batch: 21 Accuracy: 0.96875\n",
      "batch: 22 Accuracy: 1.0\n",
      "batch: 23 Accuracy: 1.0\n",
      "batch: 24 Accuracy: 0.9375\n",
      "batch: 25 Accuracy: 0.96875\n",
      "batch: 26 Accuracy: 0.9375\n",
      "batch: 27 Accuracy: 1.0\n",
      "batch: 28 Accuracy: 0.9375\n",
      "batch: 29 Accuracy: 1.0\n",
      "batch: 30 Accuracy: 0.96875\n",
      "batch: 31 Accuracy: 0.9375\n",
      "batch: 32 Accuracy: 0.96875\n",
      "batch: 33 Accuracy: 0.9375\n",
      "batch: 34 Accuracy: 0.96875\n",
      "batch: 35 Accuracy: 0.9375\n",
      "batch: 36 Accuracy: 1.0\n",
      "batch: 37 Accuracy: 1.0\n",
      "batch: 38 Accuracy: 0.9375\n",
      "batch: 39 Accuracy: 0.9375\n",
      "batch: 40 Accuracy: 1.0\n",
      "batch: 41 Accuracy: 0.9375\n",
      "batch: 42 Accuracy: 0.96875\n",
      "batch: 43 Accuracy: 0.96875\n",
      "batch: 44 Accuracy: 1.0\n",
      "batch: 45 Accuracy: 0.96875\n",
      "batch: 46 Accuracy: 1.0\n",
      "batch: 47 Accuracy: 0.96875\n",
      "batch: 48 Accuracy: 1.0\n",
      "batch: 49 Accuracy: 0.96875\n",
      "batch: 50 Accuracy: 0.875\n",
      "batch: 51 Accuracy: 0.9375\n",
      "batch: 52 Accuracy: 0.9375\n",
      "batch: 53 Accuracy: 1.0\n",
      "batch: 54 Accuracy: 0.9375\n",
      "batch: 55 Accuracy: 1.0\n",
      "overall accuracy: 0.9629843840370156\n"
     ]
    }
   ],
   "source": [
    "test(model, dataloaders)"
   ]
  },
  {
   "cell_type": "code",
   "execution_count": 19,
   "metadata": {
    "colab": {
     "base_uri": "https://localhost:8080/",
     "height": 833
    },
    "colab_type": "code",
    "id": "8WAMrgRYzR02",
    "outputId": "ac6182df-c177-490e-a6ee-6b34af2f85e2"
   },
   "outputs": [
    {
     "name": "stdout",
     "output_type": "stream",
     "text": [
      "fatal: destination path 'deep-learning-flower-identifier' already exists and is not an empty directory.\n",
      "Requirement already satisfied: airtable in /data/anaconda/envs/py35/lib/python3.5/site-packages (0.3.1)\n",
      "Requirement already satisfied: requests>=2.5.3 in /data/anaconda/envs/py35/lib/python3.5/site-packages (from airtable) (2.18.4)\n",
      "Requirement already satisfied: urllib3<1.23,>=1.21.1 in /data/anaconda/envs/py35/lib/python3.5/site-packages (from requests>=2.5.3->airtable) (1.22)\n",
      "Requirement already satisfied: idna<2.7,>=2.5 in /data/anaconda/envs/py35/lib/python3.5/site-packages (from requests>=2.5.3->airtable) (2.6)\n",
      "Requirement already satisfied: chardet<3.1.0,>=3.0.2 in /data/anaconda/envs/py35/lib/python3.5/site-packages (from requests>=2.5.3->airtable) (3.0.4)\n",
      "Requirement already satisfied: certifi>=2017.4.17 in /data/anaconda/envs/py35/lib/python3.5/site-packages (from requests>=2.5.3->airtable) (2018.8.24)\n",
      "5.3.0\n",
      "Batch accuracy (Size 32): 0.8125\n",
      "Batch accuracy (Size 32): 0.875\n",
      "Batch accuracy (Size 32): 0.875\n",
      "Batch accuracy (Size 32): 0.90625\n",
      "Batch accuracy (Size 32): 0.875\n",
      "Batch accuracy (Size 32): 0.90625\n",
      "Batch accuracy (Size 32): 0.8125\n",
      "Batch accuracy (Size 32): 0.96875\n",
      "Batch accuracy (Size 32): 0.96875\n",
      "Batch accuracy (Size 32): 0.875\n",
      "Batch accuracy (Size 32): 0.78125\n",
      "Batch accuracy (Size 32): 0.9375\n",
      "Batch accuracy (Size 32): 0.875\n",
      "Batch accuracy (Size 32): 0.90625\n",
      "Batch accuracy (Size 32): 0.9375\n",
      "Batch accuracy (Size 32): 0.875\n",
      "Batch accuracy (Size 32): 0.875\n",
      "Batch accuracy (Size 32): 0.8125\n",
      "Batch accuracy (Size 32): 0.875\n",
      "Batch accuracy (Size 32): 0.90625\n",
      "Batch accuracy (Size 32): 0.90625\n",
      "Batch accuracy (Size 32): 0.9375\n",
      "Batch accuracy (Size 32): 0.875\n",
      "Batch accuracy (Size 32): 0.9375\n",
      "Batch accuracy (Size 32): 0.875\n",
      "Batch accuracy (Size 32): 0.9375\n",
      "Batch accuracy (Size 32): 0.8125\n",
      "Batch accuracy (Size 32): 1.0\n",
      "Batch accuracy (Size 32): 0.9375\n",
      "Batch accuracy (Size 32): 0.90625\n",
      "Batch accuracy (Size 32): 0.8125\n",
      "Batch accuracy (Size 32): 1.0\n",
      "Mean accuracy: 0.8935546875\n"
     ]
    }
   ],
   "source": [
    "google_test(model)"
   ]
  },
  {
   "cell_type": "code",
   "execution_count": 19,
   "metadata": {
    "colab": {},
    "colab_type": "code",
    "id": "CjtjNWb_zxFs"
   },
   "outputs": [],
   "source": [
    "best_acc = 0.9960\n",
    "model.load_state_dict(torch.load('goog1.pt'))\n",
    "for idx,param in enumerate(model.parameters()):\n",
    "    if idx > 15:\n",
    "        param.requires_grad = True\n",
    "\n",
    "epochs = 20\n",
    "lr = 1e-4\n",
    "gamma = 0.1\n",
    "step_size = 5\n",
    "momentum = 0.8\n",
    "cooldown = 1\n",
    "\n",
    "\n",
    "optimizer = optim.SGD(model.parameters(), lr=lr, momentum = momentum)\n",
    "criterion = nn.CrossEntropyLoss()\n",
    "scheduler = lr_scheduler.ReduceLROnPlateau(optimizer, patience=step_size, cooldown=cooldown, verbose=True)"
   ]
  },
  {
   "cell_type": "code",
   "execution_count": 20,
   "metadata": {
    "colab": {
     "base_uri": "https://localhost:8080/",
     "height": 1101
    },
    "colab_type": "code",
    "id": "8CdFNP3RNiTL",
    "outputId": "f16d1e82-3c93-4182-e23d-3eb2ed6131ba"
   },
   "outputs": [
    {
     "name": "stdout",
     "output_type": "stream",
     "text": [
      "Epoch 1/20\n",
      "----------\n",
      "train............................................................................................................................................................................................................................................................................................\n",
      "train Loss: 0.2389 Acc: 0.9350\n",
      "valid.......................................................\n",
      "valid Loss: 0.0181 Acc: 0.9948\n",
      "\n",
      "Epoch 2/20\n",
      "----------\n",
      "train...................."
     ]
    },
    {
     "ename": "KeyboardInterrupt",
     "evalue": "",
     "output_type": "error",
     "traceback": [
      "\u001b[0;31m---------------------------------------------------------------------------\u001b[0m",
      "\u001b[0;31mKeyboardInterrupt\u001b[0m                         Traceback (most recent call last)",
      "\u001b[0;32m<ipython-input-20-21e73a1e06f4>\u001b[0m in \u001b[0;36m<module>\u001b[0;34m()\u001b[0m\n\u001b[0;32m----> 1\u001b[0;31m \u001b[0mbest_acc\u001b[0m\u001b[0;34m,\u001b[0m \u001b[0mmodel\u001b[0m \u001b[0;34m=\u001b[0m \u001b[0mtrain\u001b[0m\u001b[0;34m(\u001b[0m\u001b[0mepochs\u001b[0m\u001b[0;34m,\u001b[0m \u001b[0mmodel\u001b[0m\u001b[0;34m,\u001b[0m \u001b[0moptimizer\u001b[0m\u001b[0;34m,\u001b[0m \u001b[0mscheduler\u001b[0m\u001b[0;34m,\u001b[0m \u001b[0mdataloaders\u001b[0m\u001b[0;34m,\u001b[0m \u001b[0mcriterion\u001b[0m\u001b[0;34m,\u001b[0m \u001b[0mmodel_name\u001b[0m\u001b[0;34m=\u001b[0m\u001b[0;34m\"goog1.pt\"\u001b[0m\u001b[0;34m,\u001b[0m \u001b[0mbest_acc\u001b[0m\u001b[0;34m=\u001b[0m\u001b[0mbest_acc\u001b[0m\u001b[0;34m)\u001b[0m\u001b[0;34m\u001b[0m\u001b[0m\n\u001b[0m",
      "\u001b[0;32m<ipython-input-9-b4432cf6100d>\u001b[0m in \u001b[0;36mtrain\u001b[0;34m(epochs, model, optimizer, scheduler, dataloaders, criterion, model_name, save, best_acc, stats_error, stats_accuracy)\u001b[0m\n\u001b[1;32m     37\u001b[0m                     \u001b[0;31m# backward + optimize only if in training phase\u001b[0m\u001b[0;34m\u001b[0m\u001b[0;34m\u001b[0m\u001b[0m\n\u001b[1;32m     38\u001b[0m                     \u001b[0;32mif\u001b[0m \u001b[0mphase\u001b[0m \u001b[0;34m==\u001b[0m \u001b[0;34m'train'\u001b[0m\u001b[0;34m:\u001b[0m\u001b[0;34m\u001b[0m\u001b[0m\n\u001b[0;32m---> 39\u001b[0;31m                         \u001b[0mloss\u001b[0m\u001b[0;34m.\u001b[0m\u001b[0mbackward\u001b[0m\u001b[0;34m(\u001b[0m\u001b[0;34m)\u001b[0m\u001b[0;34m\u001b[0m\u001b[0m\n\u001b[0m\u001b[1;32m     40\u001b[0m                         \u001b[0moptimizer\u001b[0m\u001b[0;34m.\u001b[0m\u001b[0mstep\u001b[0m\u001b[0;34m(\u001b[0m\u001b[0;34m)\u001b[0m\u001b[0;34m\u001b[0m\u001b[0m\n\u001b[1;32m     41\u001b[0m \u001b[0;34m\u001b[0m\u001b[0m\n",
      "\u001b[0;32m/data/anaconda/envs/py35/lib/python3.5/site-packages/torch/tensor.py\u001b[0m in \u001b[0;36mbackward\u001b[0;34m(self, gradient, retain_graph, create_graph)\u001b[0m\n\u001b[1;32m    100\u001b[0m                 \u001b[0mproducts\u001b[0m\u001b[0;34m.\u001b[0m \u001b[0mDefaults\u001b[0m \u001b[0mto\u001b[0m\u001b[0;31m \u001b[0m\u001b[0;31m`\u001b[0m\u001b[0;31m`\u001b[0m\u001b[0;32mFalse\u001b[0m\u001b[0;31m`\u001b[0m\u001b[0;31m`\u001b[0m\u001b[0;34m.\u001b[0m\u001b[0;34m\u001b[0m\u001b[0m\n\u001b[1;32m    101\u001b[0m         \"\"\"\n\u001b[0;32m--> 102\u001b[0;31m         \u001b[0mtorch\u001b[0m\u001b[0;34m.\u001b[0m\u001b[0mautograd\u001b[0m\u001b[0;34m.\u001b[0m\u001b[0mbackward\u001b[0m\u001b[0;34m(\u001b[0m\u001b[0mself\u001b[0m\u001b[0;34m,\u001b[0m \u001b[0mgradient\u001b[0m\u001b[0;34m,\u001b[0m \u001b[0mretain_graph\u001b[0m\u001b[0;34m,\u001b[0m \u001b[0mcreate_graph\u001b[0m\u001b[0;34m)\u001b[0m\u001b[0;34m\u001b[0m\u001b[0m\n\u001b[0m\u001b[1;32m    103\u001b[0m \u001b[0;34m\u001b[0m\u001b[0m\n\u001b[1;32m    104\u001b[0m     \u001b[0;32mdef\u001b[0m \u001b[0mregister_hook\u001b[0m\u001b[0;34m(\u001b[0m\u001b[0mself\u001b[0m\u001b[0;34m,\u001b[0m \u001b[0mhook\u001b[0m\u001b[0;34m)\u001b[0m\u001b[0;34m:\u001b[0m\u001b[0;34m\u001b[0m\u001b[0m\n",
      "\u001b[0;32m/data/anaconda/envs/py35/lib/python3.5/site-packages/torch/autograd/__init__.py\u001b[0m in \u001b[0;36mbackward\u001b[0;34m(tensors, grad_tensors, retain_graph, create_graph, grad_variables)\u001b[0m\n\u001b[1;32m     88\u001b[0m     Variable._execution_engine.run_backward(\n\u001b[1;32m     89\u001b[0m         \u001b[0mtensors\u001b[0m\u001b[0;34m,\u001b[0m \u001b[0mgrad_tensors\u001b[0m\u001b[0;34m,\u001b[0m \u001b[0mretain_graph\u001b[0m\u001b[0;34m,\u001b[0m \u001b[0mcreate_graph\u001b[0m\u001b[0;34m,\u001b[0m\u001b[0;34m\u001b[0m\u001b[0m\n\u001b[0;32m---> 90\u001b[0;31m         allow_unreachable=True)  # allow_unreachable flag\n\u001b[0m\u001b[1;32m     91\u001b[0m \u001b[0;34m\u001b[0m\u001b[0m\n\u001b[1;32m     92\u001b[0m \u001b[0;34m\u001b[0m\u001b[0m\n",
      "\u001b[0;31mKeyboardInterrupt\u001b[0m: "
     ]
    }
   ],
   "source": [
    "best_acc, model = train(epochs, model, optimizer, scheduler, dataloaders, criterion, model_name=\"goog1.pt\", best_acc=best_acc)"
   ]
  },
  {
   "cell_type": "code",
   "execution_count": 16,
   "metadata": {
    "colab": {},
    "colab_type": "code",
    "id": "iLokKH0iNm8f"
   },
   "outputs": [
    {
     "name": "stdout",
     "output_type": "stream",
     "text": [
      "batch: 1 Accuracy: 1.0\n",
      "batch: 2 Accuracy: 1.0\n",
      "batch: 3 Accuracy: 1.0\n",
      "batch: 4 Accuracy: 1.0\n",
      "batch: 5 Accuracy: 0.96875\n",
      "batch: 6 Accuracy: 1.0\n",
      "batch: 7 Accuracy: 1.0\n",
      "batch: 8 Accuracy: 1.0\n",
      "batch: 9 Accuracy: 1.0\n",
      "batch: 10 Accuracy: 1.0\n",
      "batch: 11 Accuracy: 1.0\n",
      "batch: 12 Accuracy: 1.0\n",
      "batch: 13 Accuracy: 1.0\n",
      "batch: 14 Accuracy: 0.96875\n",
      "batch: 15 Accuracy: 1.0\n",
      "batch: 16 Accuracy: 1.0\n",
      "batch: 17 Accuracy: 1.0\n",
      "batch: 18 Accuracy: 1.0\n",
      "batch: 19 Accuracy: 1.0\n",
      "batch: 20 Accuracy: 1.0\n",
      "batch: 21 Accuracy: 1.0\n",
      "batch: 22 Accuracy: 1.0\n",
      "batch: 23 Accuracy: 1.0\n",
      "batch: 24 Accuracy: 1.0\n",
      "batch: 25 Accuracy: 1.0\n",
      "batch: 26 Accuracy: 1.0\n",
      "batch: 27 Accuracy: 1.0\n",
      "batch: 28 Accuracy: 1.0\n",
      "batch: 29 Accuracy: 1.0\n",
      "batch: 30 Accuracy: 1.0\n",
      "batch: 31 Accuracy: 1.0\n",
      "batch: 32 Accuracy: 1.0\n",
      "batch: 33 Accuracy: 1.0\n",
      "batch: 34 Accuracy: 1.0\n",
      "batch: 35 Accuracy: 1.0\n",
      "batch: 36 Accuracy: 0.96875\n",
      "batch: 37 Accuracy: 1.0\n",
      "batch: 38 Accuracy: 1.0\n",
      "batch: 39 Accuracy: 0.96875\n",
      "batch: 40 Accuracy: 1.0\n",
      "batch: 41 Accuracy: 1.0\n",
      "batch: 42 Accuracy: 1.0\n",
      "batch: 43 Accuracy: 1.0\n",
      "batch: 44 Accuracy: 1.0\n",
      "batch: 45 Accuracy: 1.0\n",
      "batch: 46 Accuracy: 1.0\n",
      "batch: 47 Accuracy: 1.0\n",
      "batch: 48 Accuracy: 1.0\n",
      "batch: 49 Accuracy: 1.0\n",
      "batch: 50 Accuracy: 1.0\n",
      "batch: 51 Accuracy: 1.0\n",
      "batch: 52 Accuracy: 1.0\n",
      "batch: 53 Accuracy: 1.0\n",
      "batch: 54 Accuracy: 1.0\n",
      "batch: 55 Accuracy: 1.0\n",
      "overall accuracy: 0.9976865240023135\n"
     ]
    }
   ],
   "source": [
    "test(model, dataloaders)"
   ]
  },
  {
   "cell_type": "code",
   "execution_count": 17,
   "metadata": {
    "colab": {},
    "colab_type": "code",
    "id": "g6O2VEplNpiq"
   },
   "outputs": [
    {
     "name": "stdout",
     "output_type": "stream",
     "text": [
      "fatal: destination path 'deep-learning-flower-identifier' already exists and is not an empty directory.\n",
      "Requirement already satisfied: airtable in /data/anaconda/envs/py35/lib/python3.5/site-packages (0.3.1)\n",
      "Requirement already satisfied: requests>=2.5.3 in /data/anaconda/envs/py35/lib/python3.5/site-packages (from airtable) (2.18.4)\n",
      "Requirement already satisfied: chardet<3.1.0,>=3.0.2 in /data/anaconda/envs/py35/lib/python3.5/site-packages (from requests>=2.5.3->airtable) (3.0.4)\n",
      "Requirement already satisfied: urllib3<1.23,>=1.21.1 in /data/anaconda/envs/py35/lib/python3.5/site-packages (from requests>=2.5.3->airtable) (1.22)\n",
      "Requirement already satisfied: certifi>=2017.4.17 in /data/anaconda/envs/py35/lib/python3.5/site-packages (from requests>=2.5.3->airtable) (2018.8.24)\n",
      "Requirement already satisfied: idna<2.7,>=2.5 in /data/anaconda/envs/py35/lib/python3.5/site-packages (from requests>=2.5.3->airtable) (2.6)\n",
      "5.3.0\n",
      "Batch accuracy (Size 32): 1.0\n",
      "Batch accuracy (Size 32): 0.96875\n",
      "Batch accuracy (Size 32): 1.0\n",
      "Batch accuracy (Size 32): 1.0\n",
      "Batch accuracy (Size 32): 1.0\n",
      "Batch accuracy (Size 32): 1.0\n",
      "Batch accuracy (Size 32): 1.0\n",
      "Batch accuracy (Size 32): 1.0\n",
      "Batch accuracy (Size 32): 1.0\n",
      "Batch accuracy (Size 32): 1.0\n",
      "Batch accuracy (Size 32): 1.0\n",
      "Batch accuracy (Size 32): 1.0\n",
      "Batch accuracy (Size 32): 1.0\n",
      "Batch accuracy (Size 32): 1.0\n",
      "Batch accuracy (Size 32): 1.0\n",
      "Batch accuracy (Size 32): 1.0\n",
      "Batch accuracy (Size 32): 1.0\n",
      "Batch accuracy (Size 32): 1.0\n",
      "Batch accuracy (Size 32): 0.96875\n",
      "Batch accuracy (Size 32): 1.0\n",
      "Batch accuracy (Size 32): 1.0\n",
      "Batch accuracy (Size 32): 1.0\n",
      "Batch accuracy (Size 32): 0.96875\n",
      "Batch accuracy (Size 32): 1.0\n",
      "Batch accuracy (Size 32): 1.0\n",
      "Batch accuracy (Size 32): 1.0\n",
      "Batch accuracy (Size 32): 0.96875\n",
      "Batch accuracy (Size 32): 1.0\n",
      "Batch accuracy (Size 32): 1.0\n",
      "Batch accuracy (Size 32): 1.0\n",
      "Batch accuracy (Size 32): 0.96875\n",
      "Batch accuracy (Size 32): 1.0\n",
      "Mean accuracy: 0.9951171875\n"
     ]
    }
   ],
   "source": [
    "google_test(model)"
   ]
  },
  {
   "cell_type": "code",
   "execution_count": 13,
   "metadata": {
    "colab": {},
    "colab_type": "code",
    "id": "50sYJMHVN7MF"
   },
   "outputs": [],
   "source": [
    "# best_acc = 0.9977\n",
    "model.load_state_dict(torch.load('goog1.pt'))\n",
    "\n",
    "for idx,param in enumerate(model.parameters()):\n",
    "    param.requires_grad = True\n",
    "\n",
    "epochs = 20\n",
    "lr = 1e-12\n",
    "gamma = 0.1\n",
    "step_size = 5\n",
    "momentum = 0.8\n",
    "cooldown = 1\n",
    "\n",
    "model.to(device)\n",
    "optimizer = optim.Adam(model.parameters(), lr=lr)\n",
    "criterion = nn.CrossEntropyLoss()\n",
    "scheduler = lr_scheduler.ReduceLROnPlateau(optimizer, patience=step_size, cooldown=cooldown, verbose=True)"
   ]
  },
  {
   "cell_type": "code",
   "execution_count": null,
   "metadata": {
    "colab": {},
    "colab_type": "code",
    "id": "GAJpzyvqOAhA"
   },
   "outputs": [
    {
     "name": "stdout",
     "output_type": "stream",
     "text": [
      "Epoch 1/20\n",
      "----------\n",
      "train............................................................................................................................................................................................................................................................................................\n",
      "train Loss: 0.0750 Acc: 0.9805\n",
      "valid.......................................................\n",
      "valid Loss: 0.0091 Acc: 0.9971\n",
      "\n",
      "Epoch 2/20\n",
      "----------\n",
      "train............................................................................................................................................................................................................................................................................................\n",
      "train Loss: 0.0743 Acc: 0.9792\n",
      "valid.......................................................\n",
      "valid Loss: 0.0098 Acc: 0.9971\n",
      "\n",
      "Epoch 3/20\n",
      "----------\n",
      "train............................................................................................................................................................................................................................................................................................\n",
      "train Loss: 0.0782 Acc: 0.9773\n",
      "valid.......................................................\n",
      "valid Loss: 0.0090 Acc: 0.9965\n",
      "\n",
      "Epoch 4/20\n",
      "----------\n",
      "train............................................................................................................................................................................................................................................................................................\n",
      "train Loss: 0.0819 Acc: 0.9771\n",
      "valid.......................................................\n",
      "valid Loss: 0.0090 Acc: 0.9971\n",
      "\n",
      "Epoch 5/20\n",
      "----------\n",
      "train............................................................................................................................................................................................................................................................................................\n",
      "train Loss: 0.0796 Acc: 0.9785\n",
      "valid.......................................................\n",
      "valid Loss: 0.0094 Acc: 0.9965\n",
      "\n",
      "Epoch 6/20\n",
      "----------\n",
      "train............................................................................................................................................................................................................................................................................................\n",
      "train Loss: 0.0816 Acc: 0.9770\n",
      "valid.......................................................\n",
      "valid Loss: 0.0086 Acc: 0.9977\n",
      "\n",
      "Epoch 7/20\n",
      "----------\n",
      "train............................................................................................................................................................................................................................................................................................\n",
      "train Loss: 0.0716 Acc: 0.9807\n",
      "valid.......................................................\n",
      "valid Loss: 0.0099 Acc: 0.9971\n",
      "\n",
      "Epoch 8/20\n",
      "----------\n",
      "train............................................................................................................................................................................................................................................................................................\n",
      "train Loss: 0.0675 Acc: 0.9830\n",
      "valid.......................................................\n",
      "valid Loss: 0.0096 Acc: 0.9971\n",
      "\n",
      "Epoch 9/20\n",
      "----------\n",
      "train............................................................................................................................................................................................................................................................................................\n",
      "train Loss: 0.0796 Acc: 0.9779\n",
      "valid.......................................................\n",
      "valid Loss: 0.0100 Acc: 0.9971\n",
      "\n",
      "Epoch 10/20\n",
      "----------\n",
      "train........................................................................................................."
     ]
    }
   ],
   "source": [
    "best_acc,model = train(epochs, model, optimizer, scheduler, dataloaders, criterion, model_name=\"goog_final1.pt\",best_acc=best_acc)"
   ]
  },
  {
   "cell_type": "code",
   "execution_count": null,
   "metadata": {
    "colab": {},
    "colab_type": "code",
    "id": "5Byyh1gSOCpz"
   },
   "outputs": [],
   "source": [
    "test(model, dataloaders)"
   ]
  },
  {
   "cell_type": "code",
   "execution_count": null,
   "metadata": {
    "colab": {},
    "colab_type": "code",
    "id": "aD9Newh1OEuH"
   },
   "outputs": [],
   "source": [
    "google_test(model)"
   ]
  },
  {
   "cell_type": "code",
   "execution_count": 15,
   "metadata": {},
   "outputs": [
    {
     "ename": "AttributeError",
     "evalue": "'ResNet' object has no attribute 'device'",
     "output_type": "error",
     "traceback": [
      "\u001b[0;31m---------------------------------------------------------------------------\u001b[0m",
      "\u001b[0;31mAttributeError\u001b[0m                            Traceback (most recent call last)",
      "\u001b[0;32m<ipython-input-15-1a8368f8e67b>\u001b[0m in \u001b[0;36m<module>\u001b[0;34m()\u001b[0m\n\u001b[0;32m----> 1\u001b[0;31m \u001b[0mmodel\u001b[0m\u001b[0;34m.\u001b[0m\u001b[0mdevice\u001b[0m\u001b[0;34m(\u001b[0m\u001b[0;34m)\u001b[0m\u001b[0;34m\u001b[0m\u001b[0m\n\u001b[0m",
      "\u001b[0;32m/data/anaconda/envs/py35/lib/python3.5/site-packages/torch/nn/modules/module.py\u001b[0m in \u001b[0;36m__getattr__\u001b[0;34m(self, name)\u001b[0m\n\u001b[1;32m    533\u001b[0m                 \u001b[0;32mreturn\u001b[0m \u001b[0mmodules\u001b[0m\u001b[0;34m[\u001b[0m\u001b[0mname\u001b[0m\u001b[0;34m]\u001b[0m\u001b[0;34m\u001b[0m\u001b[0m\n\u001b[1;32m    534\u001b[0m         raise AttributeError(\"'{}' object has no attribute '{}'\".format(\n\u001b[0;32m--> 535\u001b[0;31m             type(self).__name__, name))\n\u001b[0m\u001b[1;32m    536\u001b[0m \u001b[0;34m\u001b[0m\u001b[0m\n\u001b[1;32m    537\u001b[0m     \u001b[0;32mdef\u001b[0m \u001b[0m__setattr__\u001b[0m\u001b[0;34m(\u001b[0m\u001b[0mself\u001b[0m\u001b[0;34m,\u001b[0m \u001b[0mname\u001b[0m\u001b[0;34m,\u001b[0m \u001b[0mvalue\u001b[0m\u001b[0;34m)\u001b[0m\u001b[0;34m:\u001b[0m\u001b[0;34m\u001b[0m\u001b[0m\n",
      "\u001b[0;31mAttributeError\u001b[0m: 'ResNet' object has no attribute 'device'"
     ]
    }
   ],
   "source": []
  },
  {
   "cell_type": "code",
   "execution_count": 147,
   "metadata": {},
   "outputs": [
    {
     "data": {
      "text/html": [
       "\n",
       "                <audio controls=\"controls\" autoplay=\"autoplay\">\n",
       "                    <source src=\"https://sound.peal.io/ps/audios/000/000/537/original/woo_vu_luvub_dub_dub.wav\" type=\"audio/x-wav\" />\n",
       "                    Your browser does not support the audio element.\n",
       "                </audio>\n",
       "              "
      ],
      "text/plain": [
       "<IPython.lib.display.Audio object>"
      ]
     },
     "metadata": {},
     "output_type": "display_data"
    }
   ],
   "source": []
  },
  {
   "cell_type": "code",
   "execution_count": null,
   "metadata": {},
   "outputs": [],
   "source": []
  }
 ],
 "metadata": {
  "colab": {
   "collapsed_sections": [],
   "name": "goog.ipynb",
   "provenance": [],
   "version": "0.3.2"
  },
  "kernelspec": {
   "display_name": "Python [default]",
   "language": "python",
   "name": "python3"
  },
  "language_info": {
   "codemirror_mode": {
    "name": "ipython",
    "version": 3
   },
   "file_extension": ".py",
   "mimetype": "text/x-python",
   "name": "python",
   "nbconvert_exporter": "python",
   "pygments_lexer": "ipython3",
   "version": "3.5.5"
  }
 },
 "nbformat": 4,
 "nbformat_minor": 2
}
